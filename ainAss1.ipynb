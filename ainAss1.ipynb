{
 "nbformat": 4,
 "nbformat_minor": 0,
 "metadata": {
  "colab": {
   "provenance": []
  },
  "kernelspec": {
   "name": "python3",
   "language": "python",
   "display_name": "Python 3 (ipykernel)"
  },
  "language_info": {
   "name": "python"
  }
 },
 "cells": [
  {
   "cell_type": "markdown",
   "source": [
    "# **AIN 214 - PA1 - FALL 2024**"
   ],
   "metadata": {
    "id": "-JsD4n549KSW"
   }
  },
  {
   "cell_type": "markdown",
   "source": [
    "**Student Number** : 2220765041\n",
    "\n",
    "**Name Surname**   : Sude Naz Öztürk"
   ],
   "metadata": {
    "id": "jeu4gamv8uxb"
   }
  },
  {
   "cell_type": "markdown",
   "source": [
    "\n",
    "BELOW MD CELLS CONTAIN THE QUESTIONS YOU ARE ASKED TO IMPLEMENT WITHIN THE CONTEXT OF THIS HW. PLEASE FILL IN THE CELLS FOR THE ANSWERS RIGHT BELOW THE MD CELL OF THE QUESTION. YOU CAN ADD AS MANY CELLS AS YOU WANT, BE IT CODE OR MD, SO LONG AS YOU PROVIDE AN UNDERSTANDABLE AND TRACBLE REPORTING. PLEASE ADD COMMENTS ON YOUR CODES. ALSO, FILL IN MD CELLS WHERE YOU ARE ASKED YO COMMENT ON YOUR RESULTS OR EPXLAIN YOUR REASONING. ALSO, PLEASE DO NO HESITATE TO USE THEM FOR YOUR OWN REPORTING PURPOSES. PLEASE KEEP IN MIND THAT, REPORTING IS A KEY STEP IN DATA SCIENCE.\n",
    "\n",
    "**Deadline: 18.10.2023 (23:59:59)**\n",
    "\n",
    "**Submission:** Submit your Jupyter Notebooks via https://submit.cs.hacettepe.edu.tr/"
   ],
   "metadata": {
    "id": "so7UTKwA8ULy"
   }
  },
  {
   "cell_type": "markdown",
   "source": [
    "# **Necessary Imports**"
   ],
   "metadata": {
    "id": "l9crUPV39bKP"
   }
  },
  {
   "cell_type": "code",
   "source": [
    "# Import required libraries\n",
    "import pandas as pd\n",
    "import sqlite3\n"
   ],
   "metadata": {
    "id": "bDF8rpnv9kjd",
    "ExecuteTime": {
     "end_time": "2024-10-18T15:53:30.949911600Z",
     "start_time": "2024-10-18T15:53:30.559698700Z"
    }
   },
   "execution_count": 90,
   "outputs": []
  },
  {
   "cell_type": "markdown",
   "source": [
    "# **Notes:**\n",
    "\n",
    "* Use pandas dataframe (df) to load the data.\n",
    "\n",
    "* Use numpy or pandas operations for the requested tasks unless otherwise specified.\n",
    "\n",
    "* Use of naive for loops is not considered valid.\n",
    "\n",
    "* For the db operations, use sqlite3 library in Python"
   ],
   "metadata": {
    "id": "YzjmuhYk90CY"
   }
  },
  {
   "cell_type": "markdown",
   "source": [
    "# **PART- 1**\n",
    "\n",
    "**Set of Questions on World Happiness Report Dataset (40 Pts)**\n",
    "\n",
    "**Dataset Path: \"Data/WorldHappinessReport.csv\"**"
   ],
   "metadata": {
    "id": "ErBKcN6KBvW8"
   }
  },
  {
   "cell_type": "markdown",
   "source": [
    "# Q1. Basic Data Exploration **(10 Pts)**\n",
    "\n",
    "1. Load the data into Pandas DataFrame and print the column names. **(1 pts)**\n",
    "2. Display the first and last 10 rows of the dataset. **(1 pts)**\n",
    "3. Display random 10 rows. **(1 pts)**\n",
    "4. Display random 10 rows with a seed, ie, it outputs the same random rows everytime it is run. **(1 pts)**\n",
    "5. Display every 10th row. **(1 pts)**\n",
    "6. Get the summary stats of the dataset regarding each column. **(2 pts)**\n",
    "7. Identify and count the number of missing values in each column. **(3 pts)**"
   ],
   "metadata": {
    "id": "GWggnrTxCQJD"
   }
  },
  {
   "cell_type": "code",
   "source": [
    "#1 Load the data into Pandas DataFrame and print the column names\n",
    "dfHappiness = pd.read_csv(\"Data/WorldHappinessReport.csv\")\n",
    "columnNames = dfHappiness.columns.tolist()\n",
    "print(\"column names: \\n\")\n",
    "for column in columnNames:\n",
    "    print(column)"
   ],
   "metadata": {
    "id": "_NzJ6GYkD1aY",
    "ExecuteTime": {
     "end_time": "2024-10-18T16:48:28.301565200Z",
     "start_time": "2024-10-18T16:48:28.270111700Z"
    }
   },
   "execution_count": 131,
   "outputs": [
    {
     "name": "stdout",
     "output_type": "stream",
     "text": [
      "column names: \n",
      "\n",
      "Overall rank\n",
      "Country or region\n",
      "Score\n",
      "GDP per capita\n",
      "Social support\n",
      "Healthy life expectancy\n",
      "Freedom to make life choices\n",
      "Generosity\n",
      "Perceptions of corruption\n"
     ]
    }
   ]
  },
  {
   "cell_type": "code",
   "source": [
    "#2 Display the first and last 10 rows of the dataset.\n",
    "print(\"first 10 rows of the dataset:\")\n",
    "print(dfHappiness.head(10))\n",
    "print(\"last 10 rows of the dataset:\")\n",
    "print(dfHappiness.tail(10))"
   ],
   "metadata": {
    "id": "Z-m2CigRD26Z",
    "ExecuteTime": {
     "end_time": "2024-10-18T15:53:31.009694300Z",
     "start_time": "2024-10-18T15:53:30.650439900Z"
    }
   },
   "execution_count": 92,
   "outputs": [
    {
     "name": "stdout",
     "output_type": "stream",
     "text": [
      "first 10 rows of the dataset:\n",
      "   Overall rank Country or region  Score  GDP per capita  Social support  \\\n",
      "0             1           Finland  7.632           1.305           1.592   \n",
      "1             2            Norway  7.594           1.456           1.582   \n",
      "2             3           Denmark  7.555           1.351           1.590   \n",
      "3             4           Iceland  7.495           1.343           1.644   \n",
      "4             5       Switzerland  7.487           1.420           1.549   \n",
      "5             6       Netherlands  7.441           1.361           1.488   \n",
      "6             7            Canada  7.328           1.330           1.532   \n",
      "7             8       New Zealand  7.324           1.268           1.601   \n",
      "8             9            Sweden  7.314           1.355           1.501   \n",
      "9            10         Australia  7.272           1.340           1.573   \n",
      "\n",
      "   Healthy life expectancy  Freedom to make life choices  Generosity  \\\n",
      "0                    0.874                         0.681       0.202   \n",
      "1                    0.861                         0.686       0.286   \n",
      "2                    0.868                         0.683       0.284   \n",
      "3                    0.914                         0.677       0.353   \n",
      "4                    0.927                         0.660       0.256   \n",
      "5                    0.878                         0.638       0.333   \n",
      "6                    0.896                         0.653       0.321   \n",
      "7                    0.876                         0.669       0.365   \n",
      "8                    0.913                         0.659       0.285   \n",
      "9                    0.910                         0.647       0.361   \n",
      "\n",
      "   Perceptions of corruption  \n",
      "0                      0.393  \n",
      "1                      0.340  \n",
      "2                      0.408  \n",
      "3                      0.138  \n",
      "4                      0.357  \n",
      "5                      0.295  \n",
      "6                      0.291  \n",
      "7                      0.389  \n",
      "8                      0.383  \n",
      "9                      0.302  \n",
      "last 10 rows of the dataset:\n",
      "     Overall rank         Country or region  Score  GDP per capita  \\\n",
      "146           147                    Malawi  3.587           0.186   \n",
      "147           148                     Haiti  3.582           0.315   \n",
      "148           149                   Liberia  3.495           0.076   \n",
      "149           150                     Syria  3.462           0.689   \n",
      "150           151                    Rwanda  3.408           0.332   \n",
      "151           152                     Yemen  3.355           0.442   \n",
      "152           153                  Tanzania  3.303           0.455   \n",
      "153           154               South Sudan  3.254           0.337   \n",
      "154           155  Central African Republic  3.083           0.024   \n",
      "155           156                   Burundi  2.905           0.091   \n",
      "\n",
      "     Social support  Healthy life expectancy  Freedom to make life choices  \\\n",
      "146           0.541                    0.306                         0.531   \n",
      "147           0.714                    0.289                         0.025   \n",
      "148           0.858                    0.267                         0.419   \n",
      "149           0.382                    0.539                         0.088   \n",
      "150           0.896                    0.400                         0.636   \n",
      "151           1.073                    0.343                         0.244   \n",
      "152           0.991                    0.381                         0.481   \n",
      "153           0.608                    0.177                         0.112   \n",
      "154           0.000                    0.010                         0.305   \n",
      "155           0.627                    0.145                         0.065   \n",
      "\n",
      "     Generosity  Perceptions of corruption  \n",
      "146       0.210                      0.080  \n",
      "147       0.392                      0.104  \n",
      "148       0.206                      0.030  \n",
      "149       0.376                      0.144  \n",
      "150       0.200                      0.444  \n",
      "151       0.083                      0.064  \n",
      "152       0.270                      0.097  \n",
      "153       0.224                      0.106  \n",
      "154       0.218                      0.038  \n",
      "155       0.149                      0.076  \n"
     ]
    }
   ]
  },
  {
   "cell_type": "code",
   "source": [
    "#3 Display the random 10 rows\n",
    "print(dfHappiness.sample(10))"
   ],
   "metadata": {
    "id": "XmyRJcvED4P2",
    "ExecuteTime": {
     "end_time": "2024-10-18T15:53:31.029721700Z",
     "start_time": "2024-10-18T15:53:30.668727100Z"
    }
   },
   "execution_count": 93,
   "outputs": [
    {
     "name": "stdout",
     "output_type": "stream",
     "text": [
      "     Overall rank       Country or region  Score  GDP per capita  \\\n",
      "71             72                Honduras  5.504           0.620   \n",
      "58             59                  Russia  5.810           1.151   \n",
      "86             87              Azerbaijan  5.201           1.024   \n",
      "66             67                 Moldova  5.640           0.657   \n",
      "92             93  Bosnia and Herzegovina  5.129           0.915   \n",
      "129           130                 Myanmar  4.308           0.682   \n",
      "101           102               Venezuela  4.806           0.996   \n",
      "83             84                 Algeria  5.295           0.979   \n",
      "105           106                    Iran  4.707           1.059   \n",
      "27             28                  Brazil  6.419           0.986   \n",
      "\n",
      "     Social support  Healthy life expectancy  Freedom to make life choices  \\\n",
      "71            1.205                    0.622                         0.459   \n",
      "58            1.479                    0.599                         0.399   \n",
      "86            1.161                    0.603                         0.430   \n",
      "66            1.301                    0.620                         0.232   \n",
      "92            1.078                    0.758                         0.280   \n",
      "129           1.174                    0.429                         0.580   \n",
      "101           1.469                    0.657                         0.133   \n",
      "83            1.154                    0.687                         0.077   \n",
      "105           0.771                    0.691                         0.459   \n",
      "27            1.474                    0.675                         0.493   \n",
      "\n",
      "     Generosity  Perceptions of corruption  \n",
      "71        0.197                      0.074  \n",
      "58        0.065                      0.025  \n",
      "86        0.031                      0.176  \n",
      "66        0.171                      0.000  \n",
      "92        0.216                      0.000  \n",
      "129       0.598                      0.178  \n",
      "101       0.056                      0.052  \n",
      "83        0.055                      0.135  \n",
      "105       0.282                      0.129  \n",
      "27        0.110                      0.088  \n"
     ]
    }
   ]
  },
  {
   "cell_type": "code",
   "source": [
    "#4 sample using seed\n",
    "print(dfHappiness.sample(10,random_state=24))"
   ],
   "metadata": {
    "id": "N9MA5WPBD5zt",
    "ExecuteTime": {
     "end_time": "2024-10-18T15:53:31.029721700Z",
     "start_time": "2024-10-18T15:53:30.699809200Z"
    }
   },
   "execution_count": 94,
   "outputs": [
    {
     "name": "stdout",
     "output_type": "stream",
     "text": [
      "     Overall rank     Country or region  Score  GDP per capita  \\\n",
      "48             49                Belize  5.956           0.807   \n",
      "57             58       Northern Cyprus  5.835           1.229   \n",
      "19             20  United Arab Emirates  6.774           2.096   \n",
      "126           127              Ethiopia  4.350           0.308   \n",
      "111           112               Albania  4.586           0.916   \n",
      "11             12               Austria  7.139           1.341   \n",
      "26             27                Panama  6.430           1.112   \n",
      "49             50             Lithuania  5.952           1.197   \n",
      "30             31               Uruguay  6.379           1.093   \n",
      "150           151                Rwanda  3.408           0.332   \n",
      "\n",
      "     Social support  Healthy life expectancy  Freedom to make life choices  \\\n",
      "48            1.101                    0.474                         0.593   \n",
      "57            1.211                    0.909                         0.495   \n",
      "19            0.776                    0.670                         0.284   \n",
      "126           0.950                    0.391                         0.452   \n",
      "111           0.817                    0.790                         0.419   \n",
      "11            1.504                    0.891                         0.617   \n",
      "26            1.438                    0.759                         0.597   \n",
      "49            1.527                    0.716                         0.350   \n",
      "30            1.459                    0.771                         0.625   \n",
      "150           0.896                    0.400                         0.636   \n",
      "\n",
      "     Generosity  Perceptions of corruption  \n",
      "48        0.183                      0.089  \n",
      "57        0.179                      0.154  \n",
      "19        0.186                        NaN  \n",
      "126       0.220                      0.146  \n",
      "111       0.149                      0.032  \n",
      "11        0.242                      0.224  \n",
      "26        0.125                      0.063  \n",
      "49        0.026                      0.006  \n",
      "30        0.130                      0.155  \n",
      "150       0.200                      0.444  \n"
     ]
    }
   ]
  },
  {
   "cell_type": "code",
   "source": [
    "#5 Display every 10th row\n",
    "dfHappiness.query('index % 10 == 0')"
   ],
   "metadata": {
    "id": "GjUmX2RdD7X_",
    "ExecuteTime": {
     "end_time": "2024-10-18T15:53:31.039840900Z",
     "start_time": "2024-10-18T15:53:30.739480700Z"
    }
   },
   "execution_count": 95,
   "outputs": [
    {
     "data": {
      "text/plain": "     Overall rank Country or region  Score  GDP per capita  Social support  \\\n0               1           Finland  7.632           1.305           1.592   \n10             11    United Kingdom  7.190           1.244           1.433   \n20             21    Czech Republic  6.711           1.233           1.489   \n30             31           Uruguay  6.379           1.093           1.459   \n40             41         Nicaragua  6.141           0.668           1.319   \n50             51          Slovenia  5.948           1.219           1.506   \n60             61            Cyprus  5.762           1.229           1.191   \n70             71       Philippines  5.524           0.775           1.312   \n80             81        Montenegro  5.347           1.017           1.279   \n90             91           Nigeria  5.155           0.689           1.172   \n100           101             Nepal  4.880           0.425           1.228   \n110           111           Tunisia  4.592           0.900           0.906   \n120           121      Burkina Faso  4.424           0.314           1.097   \n130           131              Chad  4.301           0.358           0.907   \n140           141           Lesotho  3.808           0.472           1.215   \n150           151            Rwanda  3.408           0.332           0.896   \n\n     Healthy life expectancy  Freedom to make life choices  Generosity  \\\n0                      0.874                         0.681       0.202   \n10                     0.888                         0.464       0.262   \n20                     0.854                         0.543       0.064   \n30                     0.771                         0.625       0.130   \n40                     0.700                         0.527       0.208   \n50                     0.856                         0.633       0.160   \n60                     0.909                         0.423       0.202   \n70                     0.513                         0.643       0.120   \n80                     0.729                         0.259       0.111   \n90                     0.048                         0.462       0.201   \n100                    0.539                         0.526       0.302   \n110                    0.690                         0.271       0.040   \n120                    0.254                         0.312       0.175   \n130                    0.053                         0.189       0.181   \n140                    0.079                         0.423       0.116   \n150                    0.400                         0.636       0.200   \n\n     Perceptions of corruption  \n0                        0.393  \n10                       0.082  \n20                       0.034  \n30                       0.155  \n40                       0.128  \n50                       0.051  \n60                       0.035  \n70                       0.105  \n80                       0.081  \n90                       0.032  \n100                      0.078  \n110                      0.063  \n120                      0.128  \n130                      0.060  \n140                      0.112  \n150                      0.444  ",
      "text/html": "<div>\n<style scoped>\n    .dataframe tbody tr th:only-of-type {\n        vertical-align: middle;\n    }\n\n    .dataframe tbody tr th {\n        vertical-align: top;\n    }\n\n    .dataframe thead th {\n        text-align: right;\n    }\n</style>\n<table border=\"1\" class=\"dataframe\">\n  <thead>\n    <tr style=\"text-align: right;\">\n      <th></th>\n      <th>Overall rank</th>\n      <th>Country or region</th>\n      <th>Score</th>\n      <th>GDP per capita</th>\n      <th>Social support</th>\n      <th>Healthy life expectancy</th>\n      <th>Freedom to make life choices</th>\n      <th>Generosity</th>\n      <th>Perceptions of corruption</th>\n    </tr>\n  </thead>\n  <tbody>\n    <tr>\n      <th>0</th>\n      <td>1</td>\n      <td>Finland</td>\n      <td>7.632</td>\n      <td>1.305</td>\n      <td>1.592</td>\n      <td>0.874</td>\n      <td>0.681</td>\n      <td>0.202</td>\n      <td>0.393</td>\n    </tr>\n    <tr>\n      <th>10</th>\n      <td>11</td>\n      <td>United Kingdom</td>\n      <td>7.190</td>\n      <td>1.244</td>\n      <td>1.433</td>\n      <td>0.888</td>\n      <td>0.464</td>\n      <td>0.262</td>\n      <td>0.082</td>\n    </tr>\n    <tr>\n      <th>20</th>\n      <td>21</td>\n      <td>Czech Republic</td>\n      <td>6.711</td>\n      <td>1.233</td>\n      <td>1.489</td>\n      <td>0.854</td>\n      <td>0.543</td>\n      <td>0.064</td>\n      <td>0.034</td>\n    </tr>\n    <tr>\n      <th>30</th>\n      <td>31</td>\n      <td>Uruguay</td>\n      <td>6.379</td>\n      <td>1.093</td>\n      <td>1.459</td>\n      <td>0.771</td>\n      <td>0.625</td>\n      <td>0.130</td>\n      <td>0.155</td>\n    </tr>\n    <tr>\n      <th>40</th>\n      <td>41</td>\n      <td>Nicaragua</td>\n      <td>6.141</td>\n      <td>0.668</td>\n      <td>1.319</td>\n      <td>0.700</td>\n      <td>0.527</td>\n      <td>0.208</td>\n      <td>0.128</td>\n    </tr>\n    <tr>\n      <th>50</th>\n      <td>51</td>\n      <td>Slovenia</td>\n      <td>5.948</td>\n      <td>1.219</td>\n      <td>1.506</td>\n      <td>0.856</td>\n      <td>0.633</td>\n      <td>0.160</td>\n      <td>0.051</td>\n    </tr>\n    <tr>\n      <th>60</th>\n      <td>61</td>\n      <td>Cyprus</td>\n      <td>5.762</td>\n      <td>1.229</td>\n      <td>1.191</td>\n      <td>0.909</td>\n      <td>0.423</td>\n      <td>0.202</td>\n      <td>0.035</td>\n    </tr>\n    <tr>\n      <th>70</th>\n      <td>71</td>\n      <td>Philippines</td>\n      <td>5.524</td>\n      <td>0.775</td>\n      <td>1.312</td>\n      <td>0.513</td>\n      <td>0.643</td>\n      <td>0.120</td>\n      <td>0.105</td>\n    </tr>\n    <tr>\n      <th>80</th>\n      <td>81</td>\n      <td>Montenegro</td>\n      <td>5.347</td>\n      <td>1.017</td>\n      <td>1.279</td>\n      <td>0.729</td>\n      <td>0.259</td>\n      <td>0.111</td>\n      <td>0.081</td>\n    </tr>\n    <tr>\n      <th>90</th>\n      <td>91</td>\n      <td>Nigeria</td>\n      <td>5.155</td>\n      <td>0.689</td>\n      <td>1.172</td>\n      <td>0.048</td>\n      <td>0.462</td>\n      <td>0.201</td>\n      <td>0.032</td>\n    </tr>\n    <tr>\n      <th>100</th>\n      <td>101</td>\n      <td>Nepal</td>\n      <td>4.880</td>\n      <td>0.425</td>\n      <td>1.228</td>\n      <td>0.539</td>\n      <td>0.526</td>\n      <td>0.302</td>\n      <td>0.078</td>\n    </tr>\n    <tr>\n      <th>110</th>\n      <td>111</td>\n      <td>Tunisia</td>\n      <td>4.592</td>\n      <td>0.900</td>\n      <td>0.906</td>\n      <td>0.690</td>\n      <td>0.271</td>\n      <td>0.040</td>\n      <td>0.063</td>\n    </tr>\n    <tr>\n      <th>120</th>\n      <td>121</td>\n      <td>Burkina Faso</td>\n      <td>4.424</td>\n      <td>0.314</td>\n      <td>1.097</td>\n      <td>0.254</td>\n      <td>0.312</td>\n      <td>0.175</td>\n      <td>0.128</td>\n    </tr>\n    <tr>\n      <th>130</th>\n      <td>131</td>\n      <td>Chad</td>\n      <td>4.301</td>\n      <td>0.358</td>\n      <td>0.907</td>\n      <td>0.053</td>\n      <td>0.189</td>\n      <td>0.181</td>\n      <td>0.060</td>\n    </tr>\n    <tr>\n      <th>140</th>\n      <td>141</td>\n      <td>Lesotho</td>\n      <td>3.808</td>\n      <td>0.472</td>\n      <td>1.215</td>\n      <td>0.079</td>\n      <td>0.423</td>\n      <td>0.116</td>\n      <td>0.112</td>\n    </tr>\n    <tr>\n      <th>150</th>\n      <td>151</td>\n      <td>Rwanda</td>\n      <td>3.408</td>\n      <td>0.332</td>\n      <td>0.896</td>\n      <td>0.400</td>\n      <td>0.636</td>\n      <td>0.200</td>\n      <td>0.444</td>\n    </tr>\n  </tbody>\n</table>\n</div>"
     },
     "execution_count": 95,
     "metadata": {},
     "output_type": "execute_result"
    }
   ]
  },
  {
   "cell_type": "code",
   "source": [
    "#6 Get the summary stats of the dataset regarding each column\n",
    "print(dfHappiness.describe())"
   ],
   "metadata": {
    "id": "DXdwpo1SD9-F",
    "ExecuteTime": {
     "end_time": "2024-10-18T15:53:31.039840900Z",
     "start_time": "2024-10-18T15:53:30.791366300Z"
    }
   },
   "execution_count": 96,
   "outputs": [
    {
     "name": "stdout",
     "output_type": "stream",
     "text": [
      "       Overall rank       Score  GDP per capita  Social support  \\\n",
      "count    156.000000  156.000000      156.000000      156.000000   \n",
      "mean      78.500000    5.375917        0.891449        1.213237   \n",
      "std       45.177428    1.119506        0.391921        0.302372   \n",
      "min        1.000000    2.905000        0.000000        0.000000   \n",
      "25%       39.750000    4.453750        0.616250        1.066750   \n",
      "50%       78.500000    5.378000        0.949500        1.255000   \n",
      "75%      117.250000    6.168500        1.197750        1.463000   \n",
      "max      156.000000    7.632000        2.096000        1.644000   \n",
      "\n",
      "       Healthy life expectancy  Freedom to make life choices  Generosity  \\\n",
      "count               156.000000                    156.000000  156.000000   \n",
      "mean                  0.597346                      0.454506    0.181006   \n",
      "std                   0.247579                      0.162424    0.098471   \n",
      "min                   0.000000                      0.000000    0.000000   \n",
      "25%                   0.422250                      0.356000    0.109500   \n",
      "50%                   0.644000                      0.487000    0.174000   \n",
      "75%                   0.777250                      0.578500    0.239000   \n",
      "max                   1.030000                      0.724000    0.598000   \n",
      "\n",
      "       Perceptions of corruption  \n",
      "count                 155.000000  \n",
      "mean                    0.112000  \n",
      "std                     0.096492  \n",
      "min                     0.000000  \n",
      "25%                     0.051000  \n",
      "50%                     0.082000  \n",
      "75%                     0.137000  \n",
      "max                     0.457000  \n"
     ]
    }
   ]
  },
  {
   "cell_type": "code",
   "source": [
    "#7 Identify and count the number of missing values in each column\n",
    "print(dfHappiness.isnull().sum())"
   ],
   "metadata": {
    "id": "qhE0TwZZEAM5",
    "ExecuteTime": {
     "end_time": "2024-10-18T15:53:31.039840900Z",
     "start_time": "2024-10-18T15:53:30.822986500Z"
    }
   },
   "execution_count": 97,
   "outputs": [
    {
     "name": "stdout",
     "output_type": "stream",
     "text": [
      "Overall rank                    0\n",
      "Country or region               0\n",
      "Score                           0\n",
      "GDP per capita                  0\n",
      "Social support                  0\n",
      "Healthy life expectancy         0\n",
      "Freedom to make life choices    0\n",
      "Generosity                      0\n",
      "Perceptions of corruption       1\n",
      "dtype: int64\n"
     ]
    }
   ]
  },
  {
   "cell_type": "markdown",
   "source": [
    "# Q2. Basic Data Statistics: **(10 Pts)**\n",
    "\n",
    "1. Calculate the mean, median, and standard deviation of the happiness Score across all countries. **(1 Pts)**\n",
    "2. Identify the top 5 happiest countries and the bottom 5 least happy countries based on happiness Score. **(1 Pts)**\n",
    "3. Find the country with the highest Healthy Life Expectancy. What is the corresponding happiness Score? **(2 Pts)**\n",
    "4. Calculate the average Corruption Perceptions for countries with a happiness Score greater than 6. **(2 Pts)**\n",
    "5. Are there any countries where Generosity is higher than Social Support? List them. **(2 Pts)**\n",
    "6. What is the range (max-min) of GDP per Capita values in the dataset? **(2 Pts)**"
   ],
   "metadata": {
    "id": "03njHFZpEDcR"
   }
  },
  {
   "cell_type": "code",
   "source": [
    "#1  Calculate the mean, median, and standard deviation of the happiness Score across all countries.\n",
    "\n",
    "mean = dfHappiness['Score'].mean()\n",
    "median = dfHappiness['Score'].median()\n",
    "std = dfHappiness['Score'].std()\n",
    "\n",
    "print(\"mean= \" + str(mean))\n",
    "print(\"median= \"+ str(median))\n",
    "print(\"standart deviation= \"+ str(std))"
   ],
   "metadata": {
    "id": "7VerqUJlIxdB",
    "ExecuteTime": {
     "end_time": "2024-10-18T15:53:31.039840900Z",
     "start_time": "2024-10-18T15:53:30.839741900Z"
    }
   },
   "execution_count": 98,
   "outputs": [
    {
     "name": "stdout",
     "output_type": "stream",
     "text": [
      "mean= 5.375916666666667\n",
      "median= 5.378\n",
      "standart deviation= 1.119505852731943\n"
     ]
    }
   ]
  },
  {
   "cell_type": "code",
   "source": [
    "#2  Identify the top 5 happiest countries and the bottom 5 least happy countries based on happiness Score.\n",
    "\n",
    "print(\"top 5 happiest countries: \")\n",
    "print(dfHappiness.nlargest(5, 'Score')[['Country or region', 'Score']])\n",
    "print()\n",
    "print(\"bottom 5 least happy countries: \")\n",
    "print(dfHappiness.nsmallest(5, 'Score')[['Country or region', 'Score']])"
   ],
   "metadata": {
    "id": "wggNKMOnIxZR",
    "ExecuteTime": {
     "end_time": "2024-10-18T15:53:31.048371600Z",
     "start_time": "2024-10-18T15:53:30.859750100Z"
    }
   },
   "execution_count": 99,
   "outputs": [
    {
     "name": "stdout",
     "output_type": "stream",
     "text": [
      "top 5 happiest countries: \n",
      "  Country or region  Score\n",
      "0           Finland  7.632\n",
      "1            Norway  7.594\n",
      "2           Denmark  7.555\n",
      "3           Iceland  7.495\n",
      "4       Switzerland  7.487\n",
      "\n",
      "bottom 5 least happy countries: \n",
      "            Country or region  Score\n",
      "155                   Burundi  2.905\n",
      "154  Central African Republic  3.083\n",
      "153               South Sudan  3.254\n",
      "152                  Tanzania  3.303\n",
      "151                     Yemen  3.355\n"
     ]
    }
   ]
  },
  {
   "cell_type": "code",
   "source": [
    "#3  Find the country with the highest Healthy Life Expectancy. What is the corresponding happiness Score?\n",
    "\n",
    "countryIndex = dfHappiness['Healthy life expectancy'].idxmax()\n",
    "country = dfHappiness.loc[countryIndex]\n",
    "print(\"country: \"+ country['Country or region'])\n",
    "print(\"happiness score: \"+ str(country['Score']))\n"
   ],
   "metadata": {
    "id": "HEMghv00IxU1",
    "ExecuteTime": {
     "end_time": "2024-10-18T15:53:31.048371600Z",
     "start_time": "2024-10-18T15:53:30.892713600Z"
    }
   },
   "execution_count": 100,
   "outputs": [
    {
     "name": "stdout",
     "output_type": "stream",
     "text": [
      "country: Hong Kong\n",
      "happiness score: 5.43\n"
     ]
    }
   ]
  },
  {
   "cell_type": "code",
   "source": [
    "#4  Calculate the average Corruption Perceptions for countries with a happiness Score greater than 6.\n",
    "\n",
    "scoreGreaterThan6= dfHappiness[dfHappiness['Score'] > 6]\n",
    "averageCorruption = scoreGreaterThan6['Perceptions of corruption'].mean()\n",
    "print(\"average corruption perception: \"+str(averageCorruption))"
   ],
   "metadata": {
    "id": "7V9fOGmyIxPx",
    "ExecuteTime": {
     "end_time": "2024-10-18T15:53:31.049537600Z",
     "start_time": "2024-10-18T15:53:30.908441600Z"
    }
   },
   "execution_count": 101,
   "outputs": [
    {
     "name": "stdout",
     "output_type": "stream",
     "text": [
      "average corruption perception: 0.1782888888888889\n"
     ]
    }
   ]
  },
  {
   "cell_type": "code",
   "source": [
    "#5  Are there any countries where Generosity is higher than Social Support? List them.\n",
    "\n",
    "higherGenorosity =  dfHappiness[dfHappiness['Generosity'] > dfHappiness['Social support']]\n",
    "print(higherGenorosity[['Country or region', 'Generosity', 'Social support']])"
   ],
   "metadata": {
    "id": "Xu8KeZpuIxKX",
    "ExecuteTime": {
     "end_time": "2024-10-18T15:53:31.049537600Z",
     "start_time": "2024-10-18T15:53:30.919724500Z"
    }
   },
   "execution_count": 102,
   "outputs": [
    {
     "name": "stdout",
     "output_type": "stream",
     "text": [
      "            Country or region  Generosity  Social support\n",
      "154  Central African Republic       0.218             0.0\n"
     ]
    }
   ]
  },
  {
   "cell_type": "code",
   "source": [
    "#6  What is the range (max-min) of GDP per Capita values in the dataset?\n",
    "\n",
    "maxGDP = dfHappiness['GDP per capita'].max()\n",
    "minGDP = dfHappiness['GDP per capita'].min()\n",
    "\n",
    "print(\"range: \"+str(maxGDP-minGDP))"
   ],
   "metadata": {
    "id": "TwGHH-K9IxDy",
    "ExecuteTime": {
     "end_time": "2024-10-18T15:53:31.049537600Z",
     "start_time": "2024-10-18T15:53:30.949911600Z"
    }
   },
   "execution_count": 103,
   "outputs": [
    {
     "name": "stdout",
     "output_type": "stream",
     "text": [
      "range: 2.096\n"
     ]
    }
   ]
  },
  {
   "cell_type": "markdown",
   "source": [
    "# Q3. Data Filtering **(20 Pts)**\n",
    "\n",
    "1. How many countries have a Happiness Score greater than 7.5? List their names.**(2 Pts)**\n",
    "2. List all countries where the Corruption Perception score is below 0.2. **(2 Pts)**\n",
    "3. Filter and list the top 5 countries by Generosity. What is their average Happiness Score? **(2 Pts)**\n",
    "4. Find countries where GDP per Capita is less than 0.5 but the Happiness Score is above 4. List the countries. **(2 Pts)**\n",
    "5. Filter countries where Social Support is higher than Freedom to Make Life **(2 Pts)**\n",
    "6. Find countries in the top 10% of Healthy Life Expectancy and list their names. **(2 Pts)**\n",
    "7. Filter and list countries where Generosity is less than Social Support. What is the average Happiness Score of these countries? **(2 Pts)**\n",
    "8.  Find all countries with a Happiness Score below the median happiness score. How many are there, and what are the common characteristics of these countries? **(3 Pts)**\n",
    "9. Filter countries where both Freedom to Make Life Choices and Healthy Life Expectancy are above the global median. How many such countries are there? **(3 Pts)**"
   ],
   "metadata": {
    "id": "s6LGyNg0Fqns"
   }
  },
  {
   "cell_type": "code",
   "source": [
    "#1  How many countries have a Happiness Score greater than 7.5? List their names.\n",
    "\n",
    "countriesAbove7_5 = dfHappiness[dfHappiness['Score'] > 7.5]\n",
    "print(\"number of countries: \" + str(len(countriesAbove7_5)))\n",
    "countryList = countriesAbove7_5['Country or region'].tolist()\n",
    "print(\"list of countries:\")\n",
    "for country in countryList:\n",
    "    print(country)"
   ],
   "metadata": {
    "id": "H2ZCnvlKIzvU",
    "ExecuteTime": {
     "end_time": "2024-10-18T15:53:31.049537600Z",
     "start_time": "2024-10-18T15:53:30.958457500Z"
    }
   },
   "execution_count": 104,
   "outputs": [
    {
     "name": "stdout",
     "output_type": "stream",
     "text": [
      "number of countries: 3\n",
      "list of countries:\n",
      "Finland\n",
      "Norway\n",
      "Denmark\n"
     ]
    }
   ]
  },
  {
   "cell_type": "code",
   "source": [
    "#2  List all countries where the Corruption Perception score is below 0.2.\n",
    "\n",
    "CPSBelow02 = dfHappiness[dfHappiness['Perceptions of corruption'] < 0.2]\n",
    "CPSBelow02Countries = CPSBelow02['Country or region'].tolist()\n",
    "for country in CPSBelow02Countries:\n",
    "    print(country)"
   ],
   "metadata": {
    "id": "pedm2qN7Izpj",
    "ExecuteTime": {
     "end_time": "2024-10-18T15:53:31.292771900Z",
     "start_time": "2024-10-18T15:53:30.969794400Z"
    }
   },
   "execution_count": 105,
   "outputs": [
    {
     "name": "stdout",
     "output_type": "stream",
     "text": [
      "Iceland\n",
      "United Kingdom\n",
      "Costa Rica\n",
      "United States\n",
      "Czech Republic\n",
      "Malta\n",
      "France\n",
      "Mexico\n",
      "Chile\n",
      "Taiwan\n",
      "Panama\n",
      "Brazil\n",
      "Argentina\n",
      "Guatemala\n",
      "Uruguay\n",
      "Qatar\n",
      "Saudi Arabia\n",
      "Malaysia\n",
      "Spain\n",
      "Colombia\n",
      "Trinidad & Tobago\n",
      "Slovakia\n",
      "El Salvador\n",
      "Nicaragua\n",
      "Poland\n",
      "Bahrain\n",
      "Kuwait\n",
      "Thailand\n",
      "Italy\n",
      "Ecuador\n",
      "Belize\n",
      "Lithuania\n",
      "Slovenia\n",
      "Romania\n",
      "Latvia\n",
      "Japan\n",
      "Mauritius\n",
      "Jamaica\n",
      "South Korea\n",
      "Northern Cyprus\n",
      "Russia\n",
      "Kazakhstan\n",
      "Cyprus\n",
      "Bolivia\n",
      "Estonia\n",
      "Paraguay\n",
      "Peru\n",
      "Kosovo\n",
      "Moldova\n",
      "Turkmenistan\n",
      "Hungary\n",
      "Libya\n",
      "Philippines\n",
      "Honduras\n",
      "Belarus\n",
      "Turkey\n",
      "Pakistan\n",
      "Portugal\n",
      "Serbia\n",
      "Greece\n",
      "Lebanon\n",
      "Montenegro\n",
      "Croatia\n",
      "Dominican Republic\n",
      "Algeria\n",
      "Morocco\n",
      "China\n",
      "Azerbaijan\n",
      "Tajikistan\n",
      "Macedonia\n",
      "Jordan\n",
      "Nigeria\n",
      "Kyrgyzstan\n",
      "Bosnia and Herzegovina\n",
      "Mongolia\n",
      "Vietnam\n",
      "Indonesia\n",
      "Bhutan\n",
      "Cameroon\n",
      "Bulgaria\n",
      "Nepal\n",
      "Venezuela\n",
      "Gabon\n",
      "Palestinian Territories\n",
      "South Africa\n",
      "Iran\n",
      "Ivory Coast\n",
      "Ghana\n",
      "Senegal\n",
      "Laos\n",
      "Tunisia\n",
      "Albania\n",
      "Sierra Leone\n",
      "Congo (Brazzaville)\n",
      "Bangladesh\n",
      "Sri Lanka\n",
      "Iraq\n",
      "Mali\n",
      "Namibia\n",
      "Cambodia\n",
      "Burkina Faso\n",
      "Egypt\n",
      "Mozambique\n",
      "Kenya\n",
      "Zambia\n",
      "Mauritania\n",
      "Ethiopia\n",
      "Armenia\n",
      "Myanmar\n",
      "Chad\n",
      "Congo (Kinshasa)\n",
      "India\n",
      "Niger\n",
      "Uganda\n",
      "Benin\n",
      "Sudan\n",
      "Ukraine\n",
      "Togo\n",
      "Guinea\n",
      "Lesotho\n",
      "Angola\n",
      "Madagascar\n",
      "Zimbabwe\n",
      "Afghanistan\n",
      "Botswana\n",
      "Malawi\n",
      "Haiti\n",
      "Liberia\n",
      "Syria\n",
      "Yemen\n",
      "Tanzania\n",
      "South Sudan\n",
      "Central African Republic\n",
      "Burundi\n"
     ]
    }
   ]
  },
  {
   "cell_type": "code",
   "source": [
    "#3  Filter and list the top 5 countries by Generosity. What is their average Happiness Score?\n",
    "\n",
    "generosityTop5 = dfHappiness.nlargest(5, 'Generosity')\n",
    "avrScore = generosityTop5['Score'].mean()\n",
    "print(generosityTop5[['Country or region', 'Generosity']])\n",
    "print(\"\\n average happiness score: \"+str(avrScore))"
   ],
   "metadata": {
    "id": "RDR7XZU0IzES",
    "ExecuteTime": {
     "end_time": "2024-10-18T16:51:14.092564100Z",
     "start_time": "2024-10-18T16:51:14.069843Z"
    }
   },
   "execution_count": 136,
   "outputs": [
    {
     "name": "stdout",
     "output_type": "stream",
     "text": [
      "    Country or region  Generosity\n",
      "129           Myanmar       0.598\n",
      "95          Indonesia       0.484\n",
      "147             Haiti       0.392\n",
      "21              Malta       0.376\n",
      "149             Syria       0.376\n",
      "\n",
      " average happiness score: 4.6144\n"
     ]
    }
   ]
  },
  {
   "cell_type": "code",
   "source": [
    "#4  Find countries where GDP per Capita is less than 0.5 but the Happiness Score is above 4. List the countries\n",
    "\n",
    "wantedCounties = dfHappiness[(dfHappiness['GDP per capita'] < 0.5) & (dfHappiness['Score'] > 4)]\n",
    "wantedCountriesList = wantedCounties['Country or region'].tolist()\n",
    "for country in wantedCountriesList:\n",
    "    print(country)\n"
   ],
   "metadata": {
    "id": "Q-v1h509IzBw",
    "ExecuteTime": {
     "end_time": "2024-10-18T15:53:31.324346500Z",
     "start_time": "2024-10-18T15:53:31.008560300Z"
    }
   },
   "execution_count": 107,
   "outputs": [
    {
     "name": "stdout",
     "output_type": "stream",
     "text": [
      "Tajikistan\n",
      "Somalia\n",
      "Nepal\n",
      "Senegal\n",
      "Sierra Leone\n",
      "Mali\n",
      "Burkina Faso\n",
      "Mozambique\n",
      "Kenya\n",
      "Ethiopia\n",
      "Chad\n",
      "Congo (Kinshasa)\n",
      "Niger\n",
      "Uganda\n",
      "Benin\n"
     ]
    }
   ]
  },
  {
   "cell_type": "code",
   "source": [
    "#5  Filter countries where Social Support is higher than Freedom to Make Life\n",
    "\n",
    "higherSSthanFreedom =  dfHappiness[dfHappiness['Social support'] > dfHappiness['Freedom to make life choices']]\n",
    "SSandFreedomList = higherSSthanFreedom['Country or region'].tolist()\n",
    "for country in SSandFreedomList:\n",
    "    print(country)\n"
   ],
   "metadata": {
    "id": "fsxfO5cvIy_L",
    "ExecuteTime": {
     "end_time": "2024-10-18T15:53:31.324346500Z",
     "start_time": "2024-10-18T15:53:31.009694300Z"
    }
   },
   "execution_count": 108,
   "outputs": [
    {
     "name": "stdout",
     "output_type": "stream",
     "text": [
      "Finland\n",
      "Norway\n",
      "Denmark\n",
      "Iceland\n",
      "Switzerland\n",
      "Netherlands\n",
      "Canada\n",
      "New Zealand\n",
      "Sweden\n",
      "Australia\n",
      "United Kingdom\n",
      "Austria\n",
      "Costa Rica\n",
      "Ireland\n",
      "Germany\n",
      "Belgium\n",
      "Luxembourg\n",
      "United States\n",
      "Israel\n",
      "United Arab Emirates\n",
      "Czech Republic\n",
      "Malta\n",
      "France\n",
      "Mexico\n",
      "Chile\n",
      "Taiwan\n",
      "Panama\n",
      "Brazil\n",
      "Argentina\n",
      "Guatemala\n",
      "Uruguay\n",
      "Qatar\n",
      "Saudi Arabia\n",
      "Singapore\n",
      "Malaysia\n",
      "Spain\n",
      "Colombia\n",
      "Trinidad & Tobago\n",
      "Slovakia\n",
      "El Salvador\n",
      "Nicaragua\n",
      "Poland\n",
      "Bahrain\n",
      "Uzbekistan\n",
      "Kuwait\n",
      "Thailand\n",
      "Italy\n",
      "Ecuador\n",
      "Belize\n",
      "Lithuania\n",
      "Slovenia\n",
      "Romania\n",
      "Latvia\n",
      "Japan\n",
      "Mauritius\n",
      "Jamaica\n",
      "South Korea\n",
      "Northern Cyprus\n",
      "Russia\n",
      "Kazakhstan\n",
      "Cyprus\n",
      "Bolivia\n",
      "Estonia\n",
      "Paraguay\n",
      "Peru\n",
      "Kosovo\n",
      "Moldova\n",
      "Turkmenistan\n",
      "Hungary\n",
      "Libya\n",
      "Philippines\n",
      "Honduras\n",
      "Belarus\n",
      "Turkey\n",
      "Pakistan\n",
      "Hong Kong\n",
      "Portugal\n",
      "Serbia\n",
      "Greece\n",
      "Lebanon\n",
      "Montenegro\n",
      "Croatia\n",
      "Dominican Republic\n",
      "Algeria\n",
      "Morocco\n",
      "China\n",
      "Azerbaijan\n",
      "Tajikistan\n",
      "Macedonia\n",
      "Jordan\n",
      "Nigeria\n",
      "Kyrgyzstan\n",
      "Bosnia and Herzegovina\n",
      "Mongolia\n",
      "Vietnam\n",
      "Indonesia\n",
      "Bhutan\n",
      "Somalia\n",
      "Cameroon\n",
      "Bulgaria\n",
      "Nepal\n",
      "Venezuela\n",
      "Gabon\n",
      "Palestinian Territories\n",
      "South Africa\n",
      "Iran\n",
      "Ivory Coast\n",
      "Ghana\n",
      "Senegal\n",
      "Laos\n",
      "Tunisia\n",
      "Albania\n",
      "Sierra Leone\n",
      "Congo (Brazzaville)\n",
      "Bangladesh\n",
      "Sri Lanka\n",
      "Iraq\n",
      "Mali\n",
      "Namibia\n",
      "Cambodia\n",
      "Burkina Faso\n",
      "Egypt\n",
      "Mozambique\n",
      "Kenya\n",
      "Zambia\n",
      "Mauritania\n",
      "Ethiopia\n",
      "Georgia\n",
      "Armenia\n",
      "Myanmar\n",
      "Chad\n",
      "Congo (Kinshasa)\n",
      "India\n",
      "Niger\n",
      "Uganda\n",
      "Sudan\n",
      "Ukraine\n",
      "Togo\n",
      "Guinea\n",
      "Lesotho\n",
      "Angola\n",
      "Madagascar\n",
      "Zimbabwe\n",
      "Afghanistan\n",
      "Botswana\n",
      "Malawi\n",
      "Haiti\n",
      "Liberia\n",
      "Syria\n",
      "Rwanda\n",
      "Yemen\n",
      "Tanzania\n",
      "South Sudan\n",
      "Burundi\n"
     ]
    }
   ]
  },
  {
   "cell_type": "code",
   "source": [
    "#6  Find countries in the top 10% of Healthy Life Expectancy and list their names.\n",
    "\n",
    "sorted = dfHappiness.sort_values(by='Healthy life expectancy', ascending=False)\n",
    "\n",
    "totalLength = len(dfHappiness)\n",
    "\n",
    "top10percent = int(totalLength * 0.10)\n",
    "\n",
    "top10countries = sorted.head(top10percent)\n",
    "\n",
    "top10List = top10countries['Country or region'].tolist()\n",
    "\n",
    "for country in top10List:\n",
    "    print(country)\n"
   ],
   "metadata": {
    "id": "p-HrMopaIy8j",
    "ExecuteTime": {
     "end_time": "2024-10-18T15:53:31.324346500Z",
     "start_time": "2024-10-18T15:53:31.029721700Z"
    }
   },
   "execution_count": 109,
   "outputs": [
    {
     "name": "stdout",
     "output_type": "stream",
     "text": [
      "Hong Kong\n",
      "Singapore\n",
      "Japan\n",
      "Spain\n",
      "South Korea\n",
      "Italy\n",
      "Switzerland\n",
      "Iceland\n",
      "Sweden\n",
      "Australia\n",
      "Northern Cyprus\n",
      "Cyprus\n",
      "France\n",
      "Canada\n",
      "Luxembourg\n"
     ]
    }
   ]
  },
  {
   "cell_type": "code",
   "source": [
    "#7  Filter and list countries where Generosity is less than Social Support. What is the average Happiness Score of these countries?\n",
    "\n",
    "filteredCountries = dfHappiness[dfHappiness['Generosity'] < dfHappiness['Social support']]\n",
    "\n",
    "avr = filteredCountries['Score'].mean()\n",
    "\n",
    "filteredCountriesList = filteredCountries['Country or region'].tolist()\n",
    "for country in filteredCountriesList:\n",
    "    print(country)\n",
    "\n",
    "\n",
    "print()\n",
    "print(\"average happiness score: \"+str(avr))"
   ],
   "metadata": {
    "id": "C3TofhTGIy53",
    "ExecuteTime": {
     "end_time": "2024-10-18T15:53:31.327859500Z",
     "start_time": "2024-10-18T15:53:31.049537600Z"
    }
   },
   "execution_count": 110,
   "outputs": [
    {
     "name": "stdout",
     "output_type": "stream",
     "text": [
      "Finland\n",
      "Norway\n",
      "Denmark\n",
      "Iceland\n",
      "Switzerland\n",
      "Netherlands\n",
      "Canada\n",
      "New Zealand\n",
      "Sweden\n",
      "Australia\n",
      "United Kingdom\n",
      "Austria\n",
      "Costa Rica\n",
      "Ireland\n",
      "Germany\n",
      "Belgium\n",
      "Luxembourg\n",
      "United States\n",
      "Israel\n",
      "United Arab Emirates\n",
      "Czech Republic\n",
      "Malta\n",
      "France\n",
      "Mexico\n",
      "Chile\n",
      "Taiwan\n",
      "Panama\n",
      "Brazil\n",
      "Argentina\n",
      "Guatemala\n",
      "Uruguay\n",
      "Qatar\n",
      "Saudi Arabia\n",
      "Singapore\n",
      "Malaysia\n",
      "Spain\n",
      "Colombia\n",
      "Trinidad & Tobago\n",
      "Slovakia\n",
      "El Salvador\n",
      "Nicaragua\n",
      "Poland\n",
      "Bahrain\n",
      "Uzbekistan\n",
      "Kuwait\n",
      "Thailand\n",
      "Italy\n",
      "Ecuador\n",
      "Belize\n",
      "Lithuania\n",
      "Slovenia\n",
      "Romania\n",
      "Latvia\n",
      "Japan\n",
      "Mauritius\n",
      "Jamaica\n",
      "South Korea\n",
      "Northern Cyprus\n",
      "Russia\n",
      "Kazakhstan\n",
      "Cyprus\n",
      "Bolivia\n",
      "Estonia\n",
      "Paraguay\n",
      "Peru\n",
      "Kosovo\n",
      "Moldova\n",
      "Turkmenistan\n",
      "Hungary\n",
      "Libya\n",
      "Philippines\n",
      "Honduras\n",
      "Belarus\n",
      "Turkey\n",
      "Pakistan\n",
      "Hong Kong\n",
      "Portugal\n",
      "Serbia\n",
      "Greece\n",
      "Lebanon\n",
      "Montenegro\n",
      "Croatia\n",
      "Dominican Republic\n",
      "Algeria\n",
      "Morocco\n",
      "China\n",
      "Azerbaijan\n",
      "Tajikistan\n",
      "Macedonia\n",
      "Jordan\n",
      "Nigeria\n",
      "Kyrgyzstan\n",
      "Bosnia and Herzegovina\n",
      "Mongolia\n",
      "Vietnam\n",
      "Indonesia\n",
      "Bhutan\n",
      "Somalia\n",
      "Cameroon\n",
      "Bulgaria\n",
      "Nepal\n",
      "Venezuela\n",
      "Gabon\n",
      "Palestinian Territories\n",
      "South Africa\n",
      "Iran\n",
      "Ivory Coast\n",
      "Ghana\n",
      "Senegal\n",
      "Laos\n",
      "Tunisia\n",
      "Albania\n",
      "Sierra Leone\n",
      "Congo (Brazzaville)\n",
      "Bangladesh\n",
      "Sri Lanka\n",
      "Iraq\n",
      "Mali\n",
      "Namibia\n",
      "Cambodia\n",
      "Burkina Faso\n",
      "Egypt\n",
      "Mozambique\n",
      "Kenya\n",
      "Zambia\n",
      "Mauritania\n",
      "Ethiopia\n",
      "Georgia\n",
      "Armenia\n",
      "Myanmar\n",
      "Chad\n",
      "Congo (Kinshasa)\n",
      "India\n",
      "Niger\n",
      "Uganda\n",
      "Benin\n",
      "Sudan\n",
      "Ukraine\n",
      "Togo\n",
      "Guinea\n",
      "Lesotho\n",
      "Angola\n",
      "Madagascar\n",
      "Zimbabwe\n",
      "Afghanistan\n",
      "Botswana\n",
      "Malawi\n",
      "Haiti\n",
      "Liberia\n",
      "Syria\n",
      "Rwanda\n",
      "Yemen\n",
      "Tanzania\n",
      "South Sudan\n",
      "Burundi\n",
      "\n",
      "average happiness score: 5.390709677419355\n"
     ]
    }
   ]
  },
  {
   "cell_type": "code",
   "source": [
    "#8  Find all countries with a Happiness Score below the median happiness score. How many are there, and what are the common characteristics of these countries?\n",
    "\n",
    "medianHappinessScore = dfHappiness['Score'].median()\n",
    "\n",
    "countriesBelowMedian = dfHappiness[dfHappiness['Score'] < medianHappinessScore]\n",
    "\n",
    "numberOfCountries = len(countriesBelowMedian)\n",
    "\n",
    "print(\"number of countries: \"+str(numberOfCountries))\n",
    "\n",
    "belowMedianMeans = countriesBelowMedian[['Score', 'GDP per capita', 'Social support', 'Healthy life expectancy', 'Freedom to make life choices','Generosity', 'Perceptions of corruption']].mean()\n",
    "\n",
    "globalMeans = dfHappiness[['Score', 'GDP per capita', 'Social support','Healthy life expectancy', 'Freedom to make life choices','Generosity', 'Perceptions of corruption']].mean()\n",
    "\n",
    "\n",
    "print(\"\\nglobal means: \")\n",
    "print(globalMeans)\n",
    "print(\"\\nmean values for countries below the median happiness score:\")\n",
    "print(belowMedianMeans)\n",
    "\n",
    "print(\"\\ncommon characteristics of these values: lower happiness score,lower GDP per capita, weaker social support, shorter healty life expectancy, less freedom, lower generosity, lower perceptions of corruption.\")"
   ],
   "metadata": {
    "id": "aErDzpSVIy3Q",
    "ExecuteTime": {
     "end_time": "2024-10-18T15:53:31.328389700Z",
     "start_time": "2024-10-18T15:53:31.068371300Z"
    }
   },
   "execution_count": 111,
   "outputs": [
    {
     "name": "stdout",
     "output_type": "stream",
     "text": [
      "number of countries: 78\n",
      "\n",
      "global means: \n",
      "Score                           5.375917\n",
      "GDP per capita                  0.891449\n",
      "Social support                  1.213237\n",
      "Healthy life expectancy         0.597346\n",
      "Freedom to make life choices    0.454506\n",
      "Generosity                      0.181006\n",
      "Perceptions of corruption       0.112000\n",
      "dtype: float64\n",
      "\n",
      "mean values for countries below the median happiness score:\n",
      "Score                           4.449321\n",
      "GDP per capita                  0.621256\n",
      "Social support                  1.019423\n",
      "Healthy life expectancy         0.432962\n",
      "Freedom to make life choices    0.386885\n",
      "Generosity                      0.176705\n",
      "Perceptions of corruption       0.088295\n",
      "dtype: float64\n",
      "\n",
      "common characteristics of these values: lower happiness score,lower GDP per capita, weaker social support, shorter healty life expectancy, less freedom, lower generosity, lower perceptions of corruption.\n"
     ]
    }
   ]
  },
  {
   "cell_type": "code",
   "source": [
    "#9  Filter countries where both Freedom to Make Life Choices and Healthy Life Expectancy are above the global median. How many such countries are there?\n",
    "\n",
    "medianFreedom = dfHappiness['Freedom to make life choices'].median()\n",
    "medianLifeExpectancy = dfHappiness['Healthy life expectancy'].median()\n",
    "\n",
    "wantedCountries = dfHappiness[(dfHappiness['Freedom to make life choices'] > medianFreedom) & (dfHappiness['Healthy life expectancy'] > medianLifeExpectancy)]\n",
    "\n",
    "print(\"number of countries: \"+str(len(wantedCountries)))"
   ],
   "metadata": {
    "id": "1veiAlVaIy05",
    "ExecuteTime": {
     "end_time": "2024-10-18T15:53:31.328389700Z",
     "start_time": "2024-10-18T15:53:31.076873400Z"
    }
   },
   "execution_count": 112,
   "outputs": [
    {
     "name": "stdout",
     "output_type": "stream",
     "text": [
      "number of countries: 47\n"
     ]
    }
   ]
  },
  {
   "cell_type": "markdown",
   "source": [
    "# **PART- 2**\n",
    "\n",
    "**Set of Questions on the passenger_demographics.csv and passenger_survival.csv** **(25 Pts)**\n",
    "\n",
    "**Dataset Path: \"Data/passenger_demographics.csv\" and \"Data/passenger_survival.csv\"**"
   ],
   "metadata": {
    "id": "BPt91yizJhpJ"
   }
  },
  {
   "cell_type": "markdown",
   "source": [
    "# Q1. Data Merging and Consistency Checking\n",
    "\n",
    "\n",
    "1. Merge the datasets on PassengerId into a single DataFrame. How many rows are there in the merged dataset? **(3 Pts)**\n",
    "2. Perform a consistency check for duplicated rows. After merging, check for any duplicated rows in the merged dataset and provide a summary of your findings. Provide the details (average, mean, etc.) of each feature in the merged DataFrame. **(3 Pts)**\n",
    "3. Determine the survival rate for each passenger class and gender. Analyze how the survival rate varies among different classes (Pclass) and genders. **(3 Pts)**\n",
    "4. Analyze the effect of age on survival probability. Determine whether age significantly affects the probability of survival. Use statistical techniques to explore this relationship.(use binning) **(4 Pts)**\n",
    "5. Investigate the impact of family size on survival. Determine if family size (based on the number of siblings/spouses and parents/children aboard) has any correlation with survival. **(4 Pts)**\n",
    "6. Determine the most common embarkation point among survivors. Find out which embarkation point (C, Q, or S) had the highest survival rate. **(4 Pts)**\n",
    "7. Evaluate the correlation between Fare and Survival. Determine if there is a correlation between the fare paid and the survival status of the passengers. **(4 Pts)**"
   ],
   "metadata": {
    "id": "OX2D4qaNT3na"
   }
  },
  {
   "cell_type": "code",
   "source": [
    "#1  Merge the datasets on PassengerId into a single DataFrame. How many rows are there in the merged dataset?\n",
    "\n",
    "dfDemographics = pd.read_csv(\"Data/passenger_demographics.csv\")\n",
    "dfSurvival = pd.read_csv(\"Data/passenger_survival.csv\")\n",
    "\n",
    "dfMerged = pd.merge(dfDemographics, dfSurvival, on='PassengerId')\n",
    "\n",
    "print(\"number of rows: \"+str(len(dfMerged)))\n"
   ],
   "metadata": {
    "id": "Lhe7YtGBYtjD",
    "ExecuteTime": {
     "end_time": "2024-10-18T15:53:31.372171900Z",
     "start_time": "2024-10-18T15:53:31.093795500Z"
    }
   },
   "execution_count": 113,
   "outputs": [
    {
     "name": "stdout",
     "output_type": "stream",
     "text": [
      "number of rows: 891\n"
     ]
    }
   ]
  },
  {
   "cell_type": "code",
   "source": [
    "#2  Perform a consistency check for duplicated rows. After merging, check for any duplicated rows in the merged dataset and provide a summary of your findings. Provide the details (average, mean, etc.) of each feature in the merged DataFrame.\n",
    "\n",
    "#check for duplicated rows\n",
    "duplicatedRows = dfMerged[dfMerged.duplicated()]\n",
    "\n",
    "#check for number of duplicated rows and if there are duplicated rows, analyze these rows\n",
    "if len(duplicatedRows) > 0:\n",
    "    print(duplicatedRows.describe())\n",
    "else:\n",
    "    print(\"there are no duplicated rows in merged dataset.\")\n"
   ],
   "metadata": {
    "id": "WsIKBmxnYuZc",
    "ExecuteTime": {
     "end_time": "2024-10-18T15:53:31.389746600Z",
     "start_time": "2024-10-18T15:53:31.119379600Z"
    }
   },
   "execution_count": 114,
   "outputs": [
    {
     "name": "stdout",
     "output_type": "stream",
     "text": [
      "there are no duplicated rows in merged dataset.\n"
     ]
    }
   ]
  },
  {
   "cell_type": "code",
   "source": [
    "#3  Determine the survival rate for each passenger class and gender. Analyze how the survival rate varies among different classes (Pclass) and genders.\n",
    "\n",
    "#group by passenger class and gender to find the survival rate of each group\n",
    "survivalRate = dfMerged.groupby(['Pclass', 'Sex'])['Survived'].mean().reset_index()\n",
    "\n",
    "#print survival rates\n",
    "print(survivalRate)\n",
    "\n",
    "#ayrı ayrı da cinsiyete göre ve pclass'a göre tablo yap"
   ],
   "metadata": {
    "id": "vHLFSeDKYuVG",
    "ExecuteTime": {
     "end_time": "2024-10-18T15:53:31.403540900Z",
     "start_time": "2024-10-18T15:53:31.158504400Z"
    }
   },
   "execution_count": 115,
   "outputs": [
    {
     "name": "stdout",
     "output_type": "stream",
     "text": [
      "   Pclass     Sex  Survived\n",
      "0       1  female  0.968085\n",
      "1       1    male  0.368852\n",
      "2       2  female  0.921053\n",
      "3       2    male  0.157407\n",
      "4       3  female  0.500000\n",
      "5       3    male  0.135447\n"
     ]
    }
   ]
  },
  {
   "cell_type": "code",
   "source": [
    "#4  Analyze the effect of age on survival probability. Determine whether age significantly affects the probability of survival. Use statistical techniques to explore this relationship.(use binning)\n",
    "\n",
    "#check for is there any missing values\n",
    "print(\"number of missing values in 'Age' =  \" + str(dfMerged['Age'].isnull().sum()))\n",
    "\n",
    "#drop rows where age value is missing\n",
    "newMergedDf = dfMerged.dropna(subset=['Age'])\n",
    "\n",
    "#convert 'Age' to numeric values\n",
    "newMergedDf.loc[:, 'Age'] = pd.to_numeric(newMergedDf['Age'], errors='coerce')\n",
    "\n",
    "#drop rows where age is NaN\n",
    "newMergedDf = newMergedDf.dropna(subset=['Age'])\n",
    "\n",
    "#drop non-integer age values\n",
    "#newMergedDf = newMergedDf[newMergedDf['Age'] % 1 == 0]\n",
    "\n",
    "#to find age range look max and min values\n",
    "print(\"min age: \"+str(newMergedDf['Age'].min()))\n",
    "print(\"max age: \"+str(newMergedDf['Age'].max()))\n",
    "\n",
    "#define age bins and labels according to age range\n",
    "ageBins = [0, 10, 20, 30, 40, 50, 60, 70, 80]\n",
    "ageLabels = ['0-10', '11-20', '21-30', '31-40', '41-50', '51-60', '61-70', '71-80']\n",
    "newMergedDf['Age Group'] = pd.cut(newMergedDf['Age'], bins=ageBins, labels=ageLabels, right=False)\n",
    "\n",
    "#find survival rate for each age group\n",
    "ageGroupSurvival = ageGroupSurvival = newMergedDf.groupby('Age Group', observed=True)['Survived'].mean().reset_index()\n",
    "\n",
    "\n",
    "#print that rate\n",
    "print(ageGroupSurvival)"
   ],
   "metadata": {
    "id": "3nrS1BgFYuQJ",
    "ExecuteTime": {
     "end_time": "2024-10-18T16:52:05.133308700Z",
     "start_time": "2024-10-18T16:52:05.032112600Z"
    }
   },
   "execution_count": 137,
   "outputs": [
    {
     "name": "stdout",
     "output_type": "stream",
     "text": [
      "number of missing values in 'Age' =  177\n",
      "min age: 0.42\n",
      "max age: 80.0\n",
      "  Age Group  Survived\n",
      "0      0-10  0.612903\n",
      "1     11-20  0.401961\n",
      "2     21-30  0.350000\n",
      "3     31-40  0.437126\n",
      "4     41-50  0.382022\n",
      "5     51-60  0.416667\n",
      "6     61-70  0.315789\n",
      "7     71-80  0.000000\n"
     ]
    }
   ]
  },
  {
   "cell_type": "code",
   "source": [
    "#5  Investigate the impact of family size on survival. Determine if family size (based on the number of siblings/spouses and parents/children aboard) has any correlation with survival.\n",
    "\n",
    "#create a new column for family size and calculate this value using (SibSp + Parch) formula\n",
    "dfMerged['Family Size'] = dfMerged['SibSp'] + dfMerged['Parch']\n",
    "\n",
    "#print survival rates based on family size\n",
    "print(dfMerged.groupby('Family Size')['Survived'].mean().reset_index())\n",
    "\n",
    "#analyze the correlation\n",
    "corrBetweenFSandSurvived = dfMerged['Family Size'].corr(dfMerged['Survived'])\n",
    "\n",
    "print(f\"correlation between family size and survival: {corrBetweenFSandSurvived}\")\n",
    "print(\"this correlation value is very small it show us there is low correlation between family size and survival.\")\n"
   ],
   "metadata": {
    "id": "xlco8hajYuIX",
    "ExecuteTime": {
     "end_time": "2024-10-18T16:53:43.577067700Z",
     "start_time": "2024-10-18T16:53:43.514106400Z"
    }
   },
   "execution_count": 138,
   "outputs": [
    {
     "name": "stdout",
     "output_type": "stream",
     "text": [
      "   Family Size  Survived\n",
      "0            0  0.303538\n",
      "1            1  0.552795\n",
      "2            2  0.578431\n",
      "3            3  0.724138\n",
      "4            4  0.200000\n",
      "5            5  0.136364\n",
      "6            6  0.333333\n",
      "7            7  0.000000\n",
      "8           10  0.000000\n",
      "correlation between family size and survival: 0.01663898928274525\n",
      "this correlation value is very small it show us there is low correlation between family size and survival.\n"
     ]
    }
   ]
  },
  {
   "cell_type": "code",
   "source": [
    "#6  Determine the most common embarkation point among survivors. Find out which embarkation point (C, Q, or S) had the highest survival rate.\n",
    "\n",
    "#group by embarkation point and calculate survival rates\n",
    "embarkationSurvival = dfMerged.groupby('Embarked')['Survived'].mean().reset_index()\n",
    "\n",
    "#find the number of passengers by embarkation point\n",
    "embarkationCounts = dfMerged['Embarked'].value_counts().reset_index()\n",
    "embarkationCounts.columns = ['Embarked', 'Total Count']\n",
    "\n",
    "#merge the survival rates with the counts\n",
    "embarkationSummary = pd.merge(embarkationSurvival, embarkationCounts, on='Embarked')\n",
    "\n",
    "#calculate the survival rate per embarkation point\n",
    "embarkationSummary['Survival Rate'] = embarkationSummary['Survived'] * embarkationSummary['Total Count']\n",
    "\n",
    "#identify the embarkation point with the highest survival rate\n",
    "highestSurvival = embarkationSummary.loc[embarkationSummary['Survived'].idxmax()]\n",
    "mostCommon = embarkationSummary.loc[embarkationSummary['Total Count'].idxmax()]\n",
    "\n",
    "# Print the embarkation summary and the highest survival rate\n",
    "print(embarkationSummary)\n",
    "print(f\"\\nembarkation point with highest survival rate: {highestSurvival['Embarked']} with a survival rate of {highestSurvival['Survived']:.2f}.\")\n",
    "print(f\"most common embarkation point: {mostCommon['Embarked']} with {mostCommon['Total Count']} people.\")\n"
   ],
   "metadata": {
    "id": "RdPyq5mFYuCT",
    "ExecuteTime": {
     "end_time": "2024-10-18T16:58:46.616978100Z",
     "start_time": "2024-10-18T16:58:46.552097800Z"
    }
   },
   "execution_count": 142,
   "outputs": [
    {
     "name": "stdout",
     "output_type": "stream",
     "text": [
      "  Embarked  Survived  Total Count  Survival Rate\n",
      "0        C  0.553571          168           93.0\n",
      "1        Q  0.389610           77           30.0\n",
      "2        S  0.336957          644          217.0\n",
      "\n",
      "embarkation point with highest survival rate: C with a survival rate of 0.55.\n",
      "most common embarkation point: S with 644 people.\n"
     ]
    }
   ]
  },
  {
   "cell_type": "code",
   "source": [
    "#7  Evaluate the correlation between Fare and Survival. Determine if there is a correlation between the fare paid and the survival status of the passengers.\n",
    "\n",
    "#find correlation between fare and survived\n",
    "correlation = dfMerged['Fare'].corr(dfMerged['Survived'])\n",
    "\n",
    "print(\"correlation between fare and survival = \" + str(correlation))\n",
    "print(\"correlation value is small so it show us there is not huge correlation between fare and survival\")"
   ],
   "metadata": {
    "id": "vH_UEV-QYt5x",
    "ExecuteTime": {
     "end_time": "2024-10-18T15:53:31.419541600Z",
     "start_time": "2024-10-18T15:53:31.249401100Z"
    }
   },
   "execution_count": 119,
   "outputs": [
    {
     "name": "stdout",
     "output_type": "stream",
     "text": [
      "correlation between fare and survival = 0.2573065223849622\n",
      "correlation value is small so it show us there is not huge correlation between fare and survival\n"
     ]
    }
   ]
  },
  {
   "cell_type": "markdown",
   "source": [
    "# **PART- 3**\n",
    "\n",
    "**Set of Questions on SQL - using sqlite3 library!**\n",
    "\n",
    "**Dataset Path: \"Data/supermarket_sales.csv\"**"
   ],
   "metadata": {
    "id": "_3suDJgQZm01"
   }
  },
  {
   "cell_type": "markdown",
   "source": [
    "\n",
    "The Supermarket Sales Dataset is a comprehensive dataset designed to provide insights into the sales performance of a supermarket.\n",
    "\n",
    "We want to store this data in a relational database, with the following table schemas:"
   ],
   "metadata": {
    "id": "DOZouTkQh-aa"
   }
  },
  {
   "cell_type": "markdown",
   "source": [
    "# Tables\n",
    "\n",
    "## 1. Branches Table\n",
    "\n",
    "| Column   | Type  | Key      | Description                              |\n",
    "|----------|-------|----------|------------------------------------------|\n",
    "| BranchID | INTEGER  | PRIMARY  | Unique identifier for each branch        |\n",
    "| Branch | TEXT  |            |    Name of the supermarket branch        |\n",
    "| City     | TEXT  |          | City where the branch is located         |\n",
    "\n",
    "\n",
    "\n",
    "## 2. Products Table\n",
    "\n",
    "| Column      | Type  | Key      | Description                               |\n",
    "|-------------|-------|----------|-------------------------------------------|\n",
    "| ProductID | INTEGER  | PRIMARY  | Unique identifier for each product line   |\n",
    "| ProductLine | TEXT  |          | Category of the product |\n",
    "\n",
    "\n",
    "\n",
    "## 3. Orders Table\n",
    "\n",
    "| Column        | Type  | Key      | Description                                    |\n",
    "|---------------|-------|----------|------------------------------------------------|\n",
    "| OrderID       | TEXT  | PRIMARY  | Unique identifier for each order               |\n",
    "| BranchID      | INTEGER  |   FK       | Identifier for the branch of the order    |\n",
    "| ProductID   | INTEGER  |      FK    | Identifier linking to Products table ordered                      |\n",
    "| Quantity      | INTEGER |        | Number of units ordered                        |\n",
    "| UnitPrice   | REAL  |          | Price per unit of the product             |Total         | REAL  |          | Total sales value for the order               |\n",
    "| OrderDate     | TEXT  |          | Date when the order was placed                |\n",
    "| PaymentMethod | TEXT  |          | Method used for payment                       |\n",
    "| CustomerType  | TEXT  |          | Type of customer (e.g., Member, Normal)     |\n",
    "| Gender        | TEXT  |          | Gender of the customer                        |\n",
    "\n"
   ],
   "metadata": {
    "id": "8g3KN0RagrO4"
   }
  },
  {
   "cell_type": "markdown",
   "source": [
    "Summary of Table Structures\n",
    "\n",
    "* Branches Table contains information about different supermarket branches.\n",
    "\n",
    "* Products Table details the various products available for purchase.\n",
    "* Orders Table records the transactions made, linking products and branches to specific purchases.\n"
   ],
   "metadata": {
    "id": "nWvMCCPLi2W0"
   }
  },
  {
   "cell_type": "markdown",
   "source": [],
   "metadata": {
    "collapsed": false
   }
  },
  {
   "cell_type": "markdown",
   "source": [
    "# **Questions** **(35 Pts)**\n",
    "\n",
    "1. Read the csv file and create this DB **(10 Pts)**\n",
    "2. Write a query to find the top 3 product lines with the highest total quantity sold, using a LIMIT statement. **(4 Pts)**\n",
    "3. Find the total revenue generated for each branch by product line **(4 Pts)**\n",
    "4. Find the total sales for each branch **(3 Pts)**\n",
    "5. Determine the number of orders placed by each gender **(3 Pts)**\n",
    "6. List the product lines sold in each branch and the number of orders **(4 Pts)**\n",
    "7. Find the highest quantity sold for a single order and the corresponding product line **(4 Pts)**\n",
    "8. Check for duplicated invoices **(3 Pts)**\n"
   ],
   "metadata": {
    "id": "jqFWg0pzhL9L"
   }
  },
  {
   "cell_type": "code",
   "source": [
    "#1  Read the csv file and create this DB\n",
    "\n",
    "#read csv file\n",
    "supermarketDf = pd.read_csv(\"Data/supermarket_sales.csv\")\n",
    "\n",
    "#connect to db if there is no db create new one\n",
    "connection2 = sqlite3.connect('supermarketSales2.db')\n",
    "cursor = connection2.cursor()\n",
    "\n",
    "#create branch table\n",
    "cursor.execute('''\n",
    "CREATE TABLE IF NOT EXISTS Branches (\n",
    "    BranchID INTEGER PRIMARY KEY AUTOINCREMENT,\n",
    "    Branch TEXT,\n",
    "    City TEXT\n",
    ")\n",
    "''')\n",
    "\n",
    "#create product table\n",
    "cursor.execute('''\n",
    "CREATE TABLE IF NOT EXISTS Products (\n",
    "    ProductID INTEGER PRIMARY KEY AUTOINCREMENT,\n",
    "    ProductLine TEXT\n",
    ")\n",
    "''')\n",
    "\n",
    "#create order table\n",
    "cursor.execute('''\n",
    "CREATE TABLE IF NOT EXISTS Orders (\n",
    "    OrderID TEXT PRIMARY KEY,\n",
    "    BranchID INTEGER,\n",
    "    ProductID INTEGER,\n",
    "    Quantity INTEGER,\n",
    "    UnitPrice REAL,\n",
    "    OrderDate TEXT,\n",
    "    PaymentMethod TEXT,\n",
    "    CustomerType TEXT,\n",
    "    Gender TEXT,\n",
    "    FOREIGN KEY (BranchID) REFERENCES Branches(BranchID),\n",
    "    FOREIGN KEY (ProductID) REFERENCES Products(ProductID)\n",
    ")\n",
    "''')\n",
    "\n",
    "# use for loop to every row in dataset\n",
    "for _, row in supermarketDf.iterrows():\n",
    "    # insert branch data if it is already written ignore that\n",
    "    cursor.execute(\"INSERT OR IGNORE INTO Branches (Branch, City) VALUES (?, ?)\",\n",
    "                   (row['Branch'], row['City']))\n",
    "    # take written BranchID\n",
    "    cursor.execute(\"SELECT BranchID FROM Branches WHERE Branch = ? AND City = ?\",\n",
    "                   (row['Branch'], row['City']))\n",
    "    branch_id = cursor.fetchone()[0]\n",
    "\n",
    "    # insert product data if it is already written ignore that\n",
    "    cursor.execute(\"INSERT OR IGNORE INTO Products (ProductLine) VALUES (?)\",\n",
    "                   (row['Product line'],))\n",
    "    # take written ProductID\n",
    "    cursor.execute(\"SELECT ProductID FROM Products WHERE ProductLine = ?\",\n",
    "                   (row['Product line'],))\n",
    "    product_id = cursor.fetchone()[0]\n",
    "\n",
    "    # insert order data\n",
    "    cursor.execute('''\n",
    "        INSERT OR IGNORE INTO Orders (\n",
    "            OrderID, BranchID, ProductID, Quantity, UnitPrice, OrderDate, PaymentMethod, CustomerType, Gender\n",
    "        ) VALUES (?, ?, ?, ?, ?, ?, ?, ?, ?)\n",
    "    ''', (\n",
    "        row['Invoice ID'], branch_id, product_id, row['Quantity'], row['Unit price'],\n",
    "        row['Date'], row['Payment'], row['Customer type'], row['Gender']\n",
    "    ))\n",
    "\n",
    "# commit changes\n",
    "connection2.commit()\n",
    "\n",
    "#close the connection\n",
    "connection2.close()"
   ],
   "metadata": {
    "id": "4Z4tAiQHlqnF",
    "ExecuteTime": {
     "end_time": "2024-10-18T15:53:31.690786800Z",
     "start_time": "2024-10-18T15:53:31.261002900Z"
    }
   },
   "execution_count": 120,
   "outputs": []
  },
  {
   "cell_type": "code",
   "source": [
    "#2  Write a query to find the top 3 product lines with the highest total quantity sold, using a LIMIT statement.\n",
    "\n",
    "connection2 = sqlite3.connect('supermarketSales2.db')\n",
    "cursor = connection2.cursor()\n",
    "\n",
    "query = '''\n",
    "SELECT Products.ProductLine, SUM(Orders.Quantity) AS TotalQuantitySold\n",
    "FROM Orders\n",
    "JOIN Products ON Orders.ProductID = Products.ProductID\n",
    "GROUP BY Products.ProductLine\n",
    "ORDER BY TotalQuantitySold DESC\n",
    "LIMIT 3;\n",
    "'''\n",
    "\n",
    "cursor.execute(query)\n",
    "results = cursor.fetchall()\n",
    "\n",
    "print(\"top 3 product lines with the highest total quantity sold: \")\n",
    "for row in results:\n",
    "    print(f\"product line: {row[0]}, \"\n",
    "          + str(row[1]))\n",
    "\n",
    "connection2.close()\n"
   ],
   "metadata": {
    "id": "5V2Ubeyclqjc",
    "ExecuteTime": {
     "end_time": "2024-10-18T15:53:31.698448Z",
     "start_time": "2024-10-18T15:53:31.389746600Z"
    }
   },
   "execution_count": 121,
   "outputs": [
    {
     "name": "stdout",
     "output_type": "stream",
     "text": [
      "top 3 product lines with the highest total quantity sold: \n",
      "product line: Electronic accessories, 971\n",
      "product line: Food and beverages, 952\n",
      "product line: Sports and travel, 920\n"
     ]
    }
   ]
  },
  {
   "cell_type": "code",
   "source": [
    "#3  Find the total revenue generated for each branch by product line\n",
    "\n",
    "connection2 = sqlite3.connect('supermarketSales2.db')\n",
    "cursor = connection2.cursor()\n",
    "\n",
    "query = '''\n",
    "SELECT Branches.Branch, Products.ProductLine, SUM(Orders.UnitPrice * orders.Quantity) AS TotalRevenue\n",
    "FROM Orders\n",
    "JOIN Branches ON Orders.BranchID = Branches.BranchID\n",
    "JOIN Products ON Orders.ProductID = Products.ProductID\n",
    "GROUP BY Branches.Branch, Products.ProductLine\n",
    "ORDER BY Branches.Branch, TotalRevenue DESC;\n",
    "'''\n",
    "\n",
    "cursor.execute(query)\n",
    "results = cursor.fetchall()\n",
    "\n",
    "print(\"total revenue generated for each branch by product line:\")\n",
    "for row in results:\n",
    "    print(f\"branch: {row[0]}, product Line: {row[1]}, total revenue: {row[2]:.2f}\")\n",
    "\n",
    "connection2.close()\n"
   ],
   "metadata": {
    "id": "qUjEH_LvlqfN",
    "ExecuteTime": {
     "end_time": "2024-10-18T15:53:31.699685800Z",
     "start_time": "2024-10-18T15:53:31.409927900Z"
    }
   },
   "execution_count": 122,
   "outputs": [
    {
     "name": "stdout",
     "output_type": "stream",
     "text": [
      "total revenue generated for each branch by product line:\n",
      "branch: A, product Line: Home and lifestyle, total revenue: 21349.71\n",
      "branch: A, product Line: Sports and travel, total revenue: 18450.19\n",
      "branch: A, product Line: Electronic accessories, total revenue: 17444.87\n",
      "branch: A, product Line: Food and beverages, total revenue: 16345.81\n",
      "branch: A, product Line: Fashion accessories, total revenue: 15554.77\n",
      "branch: A, product Line: Health and beauty, total revenue: 11997.86\n",
      "branch: B, product Line: Sports and travel, total revenue: 19036.38\n",
      "branch: B, product Line: Health and beauty, total revenue: 19029.20\n",
      "branch: B, product Line: Home and lifestyle, total revenue: 16713.49\n",
      "branch: B, product Line: Electronic accessories, total revenue: 16239.47\n",
      "branch: B, product Line: Fashion accessories, total revenue: 15631.73\n",
      "branch: B, product Line: Food and beverages, total revenue: 14490.37\n",
      "branch: C, product Line: Food and beverages, total revenue: 22635.10\n",
      "branch: C, product Line: Fashion accessories, total revenue: 20533.40\n",
      "branch: C, product Line: Electronic accessories, total revenue: 18065.69\n",
      "branch: C, product Line: Health and beauty, total revenue: 15824.12\n",
      "branch: C, product Line: Sports and travel, total revenue: 15011.36\n",
      "branch: C, product Line: Home and lifestyle, total revenue: 13233.86\n"
     ]
    }
   ]
  },
  {
   "cell_type": "code",
   "source": [
    "#4  Find the total sales for each branch\n",
    "\n",
    "connection2 = sqlite3.connect('supermarketSales2.db')\n",
    "cursor = connection2.cursor()\n",
    "\n",
    "query = '''\n",
    "SELECT Branch, SUM(Orders.Quantity) AS TotalSales\n",
    "FROM Orders\n",
    "JOIN Branches ON Orders.BranchID = Branches.BranchID\n",
    "GROUP BY Branch;\n",
    "'''\n",
    "\n",
    "cursor.execute(query)\n",
    "results = cursor.fetchall()\n",
    "\n",
    "print(\"total sales for each branch:\")\n",
    "for row in results:\n",
    "    print(f\"branch: {row[0]}, total sales: {row[1]:.2f}\")\n",
    "\n",
    "connection2.close()\n"
   ],
   "metadata": {
    "id": "aZAzTF7Hlqbi",
    "ExecuteTime": {
     "end_time": "2024-10-18T15:53:31.722755600Z",
     "start_time": "2024-10-18T15:53:31.419541600Z"
    }
   },
   "execution_count": 123,
   "outputs": [
    {
     "name": "stdout",
     "output_type": "stream",
     "text": [
      "total sales for each branch:\n",
      "branch: A, total sales: 1859.00\n",
      "branch: B, total sales: 1820.00\n",
      "branch: C, total sales: 1831.00\n"
     ]
    }
   ]
  },
  {
   "cell_type": "code",
   "source": [
    "#5  Determine the number of orders placed by each gender\n",
    "\n",
    "connection2 = sqlite3.connect('supermarketSales2.db')\n",
    "cursor = connection2.cursor()\n",
    "\n",
    "query = '''\n",
    "SELECT Gender, COUNT(OrderID) AS NumberOfOrders\n",
    "FROM Orders\n",
    "GROUP BY Gender;\n",
    "'''\n",
    "\n",
    "cursor.execute(query)\n",
    "results = cursor.fetchall()\n",
    "\n",
    "print(\"number of orders placed by each gender:\")\n",
    "for row in results:\n",
    "    print(f\"gender: {row[0]}, number of orders: {row[1]}\")\n",
    "\n",
    "connection2.close()"
   ],
   "metadata": {
    "id": "FVBfDGVolqXG",
    "ExecuteTime": {
     "end_time": "2024-10-18T15:53:31.728331700Z",
     "start_time": "2024-10-18T15:53:31.442472Z"
    }
   },
   "execution_count": 124,
   "outputs": [
    {
     "name": "stdout",
     "output_type": "stream",
     "text": [
      "number of orders placed by each gender:\n",
      "gender: Female, number of orders: 501\n",
      "gender: Male, number of orders: 499\n"
     ]
    }
   ]
  },
  {
   "cell_type": "code",
   "source": [
    "#6  List the product lines sold in each branch and the number of orders\n",
    "\n",
    "connection2 = sqlite3.connect('supermarketSales2.db')\n",
    "cursor = connection2.cursor()\n",
    "\n",
    "query = '''\n",
    "SELECT b.Branch, p.ProductLine, COUNT(o.OrderID) AS NumberOfOrders\n",
    "FROM Branches b\n",
    "JOIN Orders o ON b.BranchID = o.BranchID\n",
    "JOIN Products p ON o.ProductID = p.ProductID\n",
    "GROUP BY b.Branch, p.ProductLine\n",
    "ORDER BY b.Branch, p.ProductLine;\n",
    "'''\n",
    "\n",
    "cursor.execute(query)\n",
    "results = cursor.fetchall()\n",
    "\n",
    "print(\"product lines sold in each branch and the number of orders:\")\n",
    "for row in results:\n",
    "    print(f\"branch: {row[0]}, product line: {row[1]}, number of orders: {row[2]}\")\n",
    "\n",
    "connection2.close()"
   ],
   "metadata": {
    "id": "NqeB7IRalqRa",
    "ExecuteTime": {
     "end_time": "2024-10-18T15:53:31.728331700Z",
     "start_time": "2024-10-18T15:53:31.457812200Z"
    }
   },
   "execution_count": 125,
   "outputs": [
    {
     "name": "stdout",
     "output_type": "stream",
     "text": [
      "product lines sold in each branch and the number of orders:\n",
      "branch: A, product line: Electronic accessories, number of orders: 60\n",
      "branch: A, product line: Fashion accessories, number of orders: 51\n",
      "branch: A, product line: Food and beverages, number of orders: 58\n",
      "branch: A, product line: Health and beauty, number of orders: 47\n",
      "branch: A, product line: Home and lifestyle, number of orders: 65\n",
      "branch: A, product line: Sports and travel, number of orders: 59\n",
      "branch: B, product line: Electronic accessories, number of orders: 55\n",
      "branch: B, product line: Fashion accessories, number of orders: 62\n",
      "branch: B, product line: Food and beverages, number of orders: 50\n",
      "branch: B, product line: Health and beauty, number of orders: 53\n",
      "branch: B, product line: Home and lifestyle, number of orders: 50\n",
      "branch: B, product line: Sports and travel, number of orders: 62\n",
      "branch: C, product line: Electronic accessories, number of orders: 55\n",
      "branch: C, product line: Fashion accessories, number of orders: 65\n",
      "branch: C, product line: Food and beverages, number of orders: 66\n",
      "branch: C, product line: Health and beauty, number of orders: 52\n",
      "branch: C, product line: Home and lifestyle, number of orders: 45\n",
      "branch: C, product line: Sports and travel, number of orders: 45\n"
     ]
    }
   ]
  },
  {
   "cell_type": "code",
   "source": [
    "#7  Find the highest quantity sold for a single order and the corresponding product line\n",
    "connection2 = sqlite3.connect('supermarketSales2.db')\n",
    "cursor = connection2.cursor()\n",
    "\n",
    "query = '''\n",
    "SELECT Products.ProductLine, MAX(Orders.Quantity) AS HighestQuantity\n",
    "FROM Orders\n",
    "JOIN Products ON Orders.ProductID = Products.ProductID\n",
    "GROUP BY Products.ProductLine\n",
    "ORDER BY HighestQuantity DESC\n",
    "LIMIT 1;\n",
    "'''\n",
    "\n",
    "cursor.execute(query)\n",
    "result = cursor.fetchone()\n",
    "\n",
    "print(\"highest quantity sold for a single order and the corresponding product line:\")\n",
    "print(f\"product Line: {result[0]}, highest Quantity Sold: {result[1]}\")\n",
    "\n",
    "connection2.close()\n",
    "#bak buraya"
   ],
   "metadata": {
    "id": "ECIox9ZylqKY",
    "ExecuteTime": {
     "end_time": "2024-10-18T17:00:50.224139300Z",
     "start_time": "2024-10-18T17:00:50.200377600Z"
    }
   },
   "execution_count": 144,
   "outputs": [
    {
     "name": "stdout",
     "output_type": "stream",
     "text": [
      "highest quantity sold for a single order and the corresponding product line:\n",
      "product Line: Sports and travel, highest Quantity Sold: 10\n"
     ]
    }
   ]
  },
  {
   "cell_type": "code",
   "source": [
    "#8  Check for duplicated invoices\n",
    "\n",
    "connection2 = sqlite3.connect('supermarketSales2.db')\n",
    "cursor = connection2.cursor()\n",
    "\n",
    "query = '''\n",
    "SELECT OrderID, COUNT(*)\n",
    "FROM Orders\n",
    "GROUP BY OrderID\n",
    "HAVING COUNT(*) > 1;\n",
    "'''\n",
    "\n",
    "cursor.execute(query)\n",
    "duplicate_invoices = cursor.fetchall()\n",
    "\n",
    "if duplicate_invoices:\n",
    "    print(\"duplicated invoices:\")\n",
    "    for row in duplicate_invoices:\n",
    "        print(f\"Order ID: {row[0]}\")\n",
    "else:\n",
    "    print(\"there is no duplicated invoices.\")\n",
    "\n",
    "#there is no duplicated invoices because we use primary key and also 'ignore or...'\n",
    "\n",
    "connection2.close()\n"
   ],
   "metadata": {
    "id": "MUWbll4RluQg",
    "ExecuteTime": {
     "end_time": "2024-10-18T15:53:31.728331700Z",
     "start_time": "2024-10-18T15:53:31.489645500Z"
    }
   },
   "execution_count": 127,
   "outputs": [
    {
     "name": "stdout",
     "output_type": "stream",
     "text": [
      "there is no duplicated invoices.\n"
     ]
    }
   ]
  },
  {
   "cell_type": "markdown",
   "source": [
    "# SUBMIT FORMAT\n",
    "\n",
    "* **<-zip>**\n",
    "  - **studentID_name_surname_hw1.ipynb**\n"
   ],
   "metadata": {
    "id": "hlDZmDHMWBrk"
   }
  },
  {
   "cell_type": "markdown",
   "source": [
    "# PLAGIARISM\n",
    "\n",
    "All work on assignments must be done individually. You are encouraged to discuss the given assignments with your classmates, but these discussions should be carried out in an abstract way. That is, discussions related to a particular solution to a specific probem (either in actual code or in pseudocode) will not be tolerated. In short, turning in someone else’s work (including work available on the internet), in whole or in part, as your own will be considered as a violation of academic integrity. Please note that the former conditions also hold for the material attained using AI tools, including ChatGPT, GitHub Copilot, etc."
   ],
   "metadata": {
    "id": "fTXBu8Dql0Iv"
   }
  }
 ]
}
